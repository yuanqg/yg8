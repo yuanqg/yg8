{
 "cells": [
  {
   "cell_type": "code",
   "execution_count": 1,
   "id": "e3b78d40",
   "metadata": {},
   "outputs": [],
   "source": [
    "import pandas as pd\n",
    "import numpy as np\n",
    "from pandas import DataFrame\n",
    "import matplotlib.pyplot as plt"
   ]
  },
  {
   "cell_type": "code",
   "execution_count": 2,
   "id": "974618bc",
   "metadata": {},
   "outputs": [],
   "source": [
    "tr = pd.read_csv('D:\\download\\hw5.csv')\n",
    "data = pd.DataFrame (tr)"
   ]
  },
  {
   "cell_type": "code",
   "execution_count": 3,
   "id": "1c94cd1f",
   "metadata": {},
   "outputs": [
    {
     "name": "stdout",
     "output_type": "stream",
     "text": [
      "           SVENF01      SVENF02      SVENF03      SVENF04      SVENF05  \\\n",
      "count  8071.000000  8071.000000  8071.000000  8071.000000  8071.000000   \n",
      "mean      3.785311     4.258972     4.669363     5.022430     5.318493   \n",
      "std       2.648060     2.498137     2.341348     2.221632     2.137801   \n",
      "min       0.072700     0.327300     0.630300     1.013000     1.424500   \n",
      "25%       1.144050     1.865600     2.536550     3.023050     3.544700   \n",
      "50%       3.986500     4.393300     4.505500     4.718900     5.051300   \n",
      "75%       5.901500     6.221250     6.461300     6.626600     6.779550   \n",
      "max       9.813800     9.887800    10.145600    10.459900    10.649900   \n",
      "\n",
      "           SVENF06      SVENF07      SVENF08      SVENF09      SVENF10  ...  \\\n",
      "count  8071.000000  8071.000000  8071.000000  8071.000000  8071.000000  ...   \n",
      "mean      5.559644     5.750071     5.895135     6.000596     6.072112  ...   \n",
      "std       2.080405     2.040337     2.010786     1.987244     1.966960  ...   \n",
      "min       1.698200     1.807300     1.885000     1.942100     1.988200  ...   \n",
      "25%       4.063300     4.409750     4.644300     4.774550     4.859500  ...   \n",
      "50%       5.394600     5.663700     5.870800     5.993700     6.082400  ...   \n",
      "75%       6.908050     7.049900     7.181600     7.297550     7.393350  ...   \n",
      "max      10.741400    10.766300    10.747500    10.701500    10.640000  ...   \n",
      "\n",
      "           SVENF22      SVENF23      SVENF24      SVENF25      SVENF26  \\\n",
      "count  8071.000000  8071.000000  8071.000000  8071.000000  8071.000000   \n",
      "mean      5.689046     5.621666     5.554136     5.486943     5.420479   \n",
      "std       1.801291     1.797858     1.797012     1.798842     1.803390   \n",
      "min       1.489600     1.283000     1.100800     0.941000     0.801800   \n",
      "25%       4.177450     4.090550     4.024800     3.982950     3.962100   \n",
      "50%       5.619600     5.503000     5.369900     5.228000     5.096700   \n",
      "75%       7.330550     7.233200     7.114900     6.998150     6.871050   \n",
      "max      10.535100    10.535100    10.535100    10.535100    10.535100   \n",
      "\n",
      "           SVENF27      SVENF28      SVENF29      SVENF30    Adj_Close  \n",
      "count  8071.000000  8071.000000  8071.000000  8071.000000  8071.000000  \n",
      "mean      5.355063     5.290948     5.228333     5.167371     5.509793  \n",
      "std       1.810643     1.820541     1.832984     1.847834     2.491110  \n",
      "min       0.681200     0.577100     0.487600     0.411100     2.801050  \n",
      "25%       3.887150     3.840900     3.825050     3.831350     3.130587  \n",
      "50%       4.979700     4.860800     4.758600     4.669000     4.956219  \n",
      "75%       6.765400     6.650600     6.535450     6.421850     8.051437  \n",
      "max      10.535100    10.535100    10.535100    10.535100    10.150118  \n",
      "\n",
      "[8 rows x 31 columns]\n"
     ]
    }
   ],
   "source": [
    "summary = data.describe()\n",
    "print(summary)"
   ]
  },
  {
   "cell_type": "code",
   "execution_count": 4,
   "id": "7621deac",
   "metadata": {},
   "outputs": [
    {
     "name": "stdout",
     "output_type": "stream",
     "text": [
      "Number of Rows of Data = 8071 \n",
      "\n",
      "Number of Columns of Data = 32\n"
     ]
    }
   ],
   "source": [
    "nrow= len(data.index)\n",
    "ncol= len(data.columns)\n",
    "print(\"Number of Rows of Data =\" , nrow, '\\n')\n",
    "print(\"Number of Columns of Data =\" ,ncol)"
   ]
  },
  {
   "cell_type": "code",
   "execution_count": 5,
   "id": "c1cc85d5",
   "metadata": {},
   "outputs": [
    {
     "data": {
      "text/plain": [
       "Date          object\n",
       "SVENF01      float64\n",
       "SVENF02      float64\n",
       "SVENF03      float64\n",
       "SVENF04      float64\n",
       "SVENF05      float64\n",
       "SVENF06      float64\n",
       "SVENF07      float64\n",
       "SVENF08      float64\n",
       "SVENF09      float64\n",
       "SVENF10      float64\n",
       "SVENF11      float64\n",
       "SVENF12      float64\n",
       "SVENF13      float64\n",
       "SVENF14      float64\n",
       "SVENF15      float64\n",
       "SVENF16      float64\n",
       "SVENF17      float64\n",
       "SVENF18      float64\n",
       "SVENF19      float64\n",
       "SVENF20      float64\n",
       "SVENF21      float64\n",
       "SVENF22      float64\n",
       "SVENF23      float64\n",
       "SVENF24      float64\n",
       "SVENF25      float64\n",
       "SVENF26      float64\n",
       "SVENF27      float64\n",
       "SVENF28      float64\n",
       "SVENF29      float64\n",
       "SVENF30      float64\n",
       "Adj_Close    float64\n",
       "dtype: object"
      ]
     },
     "execution_count": 5,
     "metadata": {},
     "output_type": "execute_result"
    }
   ],
   "source": [
    "#Determine which attributes are categorical and which are numeric\n",
    "data.dtypes"
   ]
  },
  {
   "cell_type": "code",
   "execution_count": 49,
   "id": "c439f7e2",
   "metadata": {},
   "outputs": [
    {
     "data": {
      "image/png": "[encoded data removed]",
      "text/plain": [
       "<Figure size 432x288 with 2 Axes>"
      ]
     },
     "metadata": {
      "needs_background": "light"
     },
     "output_type": "display_data"
    }
   ],
   "source": [
    "import seaborn as sns\n",
    "cols = data.columns.values\n",
    "cm = np.corrcoef(data.values.T)\n",
    "hm = sns.heatmap(cm,cbar=True,xticklabels=cols,yticklabels=cols)"
   ]
  },
  {
   "cell_type": "code",
   "execution_count": 32,
   "id": "f8e69608",
   "metadata": {},
   "outputs": [
    {
     "name": "stdout",
     "output_type": "stream",
     "text": [
      "When principal components is 30, explained variance ratio is  \n",
      " [9.24583923e-01 3.80677290e-02 3.09538182e-02 5.43517622e-03\n",
      " 8.68144161e-04 7.94583264e-05 1.03765359e-05 1.27869215e-06\n",
      " 8.79077503e-08 7.03447249e-09 4.86308839e-10 3.78642587e-11\n",
      " 9.41508611e-12 8.34809769e-12 8.25960054e-12 8.03266324e-12\n",
      " 7.70614606e-12 7.56011984e-12 7.26380604e-12 7.23209175e-12\n",
      " 7.10434227e-12 6.97572590e-12 6.80080348e-12 6.59628969e-12\n",
      " 6.49636648e-12 6.45098998e-12 6.22737273e-12 6.06291088e-12\n",
      " 5.91112972e-12 5.30801289e-12]\n"
     ]
    },
    {
     "data": {
      "image/png": "[encoded data removed]",
      "text/plain": [
       "<Figure size 432x288 with 1 Axes>"
      ]
     },
     "metadata": {
      "needs_background": "light"
     },
     "output_type": "display_data"
    }
   ],
   "source": [
    "#PCA\n",
    "from sklearn.decomposition import PCA\n",
    "from sklearn.preprocessing import StandardScaler\n",
    "from sklearn.model_selection import train_test_split\n",
    "from time import process_time\n",
    "sc= StandardScaler()\n",
    "X= data.iloc[:,1:-1].values\n",
    "X_std= sc.fit_transform(X)\n",
    "y= data['Adj_Close'].values\n",
    "X_train, X_test, y_train, y_test = train_test_split (X, y, test_size = 0.15, random_state= 42)\n",
    "\n",
    "pca=PCA()\n",
    "X_train_pca= pca.fit_transform(X_train)\n",
    "X_test_pca= pca.fit_transform(X_test)\n",
    "list_ratio= pca.explained_variance_ratio_\n",
    "print(\"When principal components is 30, explained variance ratio is  \\n\", list_ratio)\n",
    "plt.bar(range(1, 31), list_ratio)\n",
    "plt.step(range(1, 31), np.cumsum(list_ratio))\n",
    "plt.xlabel('Principal components')\n",
    "plt.ylabel('Explained variance ratio')\n",
    "plt.show()"
   ]
  },
  {
   "cell_type": "code",
   "execution_count": 42,
   "id": "75e83126",
   "metadata": {
    "scrolled": false
   },
   "outputs": [
    {
     "name": "stdout",
     "output_type": "stream",
     "text": [
      "When principal components is 3, explained variance ratio is  \n",
      " [0.9251148  0.03768718 0.0312101 ]\n"
     ]
    },
    {
     "data": {
      "image/png": "[encoded data removed]",
      "text/plain": [
       "<Figure size 432x288 with 1 Axes>"
      ]
     },
     "metadata": {
      "needs_background": "light"
     },
     "output_type": "display_data"
    },
    {
     "name": "stdout",
     "output_type": "stream",
     "text": [
      "[0.9251148  0.96280198 0.99401208]\n"
     ]
    }
   ],
   "source": [
    "pca = PCA(n_components=3)\n",
    "X_train_pca_new = pca.fit_transform(X_train)\n",
    "X_test_pca_new = pca.transform(X_test)\n",
    "list_ratio_new = pca.explained_variance_ratio_\n",
    "print(\"When principal components is 3, explained variance ratio is  \\n\", list_ratio_new)\n",
    "plt.bar(range(1, 4), list_ratio_new)\n",
    "plt.step(range(1, 4), np.cumsum(list_ratio_new))\n",
    "plt.xlabel('Principal components')\n",
    "plt.ylabel('Explained variance ratio')\n",
    "plt.show()\n",
    "#print(np.cumsum(list_ratio_new))"
   ]
  },
  {
   "cell_type": "code",
   "execution_count": 41,
   "id": "8fc2d674",
   "metadata": {},
   "outputs": [
    {
     "name": "stdout",
     "output_type": "stream",
     "text": [
      "Slope: [  -4.83843828   53.15886154 -249.77609515  590.39765971 -686.96356431\n",
      "  228.0988777   289.2937007  -302.62642323  -44.31624559  320.69207748\n",
      " -288.3692738   200.16366115   -0.89256856  -86.94013339  -96.64031266\n",
      "   -7.50513023 -302.47703105  216.50764237  136.90241245  133.63875554\n",
      "  562.97736489 -387.63320904  176.17955174 -418.55197044 -795.41172644\n",
      "  238.7673055   102.69781344  839.17533861  -80.32795402 -336.50681657] \n",
      "\n",
      "Intercept: 11.80749277960743 \n",
      "\n",
      "Time:  0.046875\n",
      "RMSE train:  0.7766533040369971\n",
      "RMSE test:  0.782369585505904\n",
      "R2 train:  0.902273035340041\n",
      "R2 test:  0.9041309535336901\n"
     ]
    }
   ],
   "source": [
    "#Linear Regression original\n",
    "from sklearn.linear_model import LinearRegression\n",
    "from sklearn.metrics import mean_squared_error\n",
    "from sklearn.metrics import r2_score\n",
    "import math\n",
    "\n",
    "start= process_time()\n",
    "X= data.iloc[:,1:-1].values\n",
    "y= data['Adj_Close'].values\n",
    "X_train, X_test, y_train, y_test = train_test_split (X, y, test_size = 0.15, random_state= 42)\n",
    "reg = LinearRegression()\n",
    "reg.fit(X_train, y_train)\n",
    "y_train_pred= reg.predict (X_train)\n",
    "y_test_pred= reg.predict(X_test) \n",
    "stop= process_time()\n",
    "print ('Slope:',reg.coef_,'\\n')\n",
    "print ('Intercept:',reg.intercept_,'\\n')\n",
    "print ('Time: ', stop-start)\n",
    "\n",
    "#MSE\n",
    "print(\"RMSE train: \",math.sqrt(mean_squared_error(y_train,y_train_pred)))\n",
    "print(\"RMSE test: \",math.sqrt(mean_squared_error(y_test,y_test_pred)))\n",
    "\n",
    "#R2 score\n",
    "print(\"R2 train: \", r2_score(y_train,y_train_pred))\n",
    "print(\"R2 test: \", r2_score(y_test,y_test_pred))"
   ]
  },
  {
   "cell_type": "code",
   "execution_count": 37,
   "id": "82a46da0",
   "metadata": {},
   "outputs": [
    {
     "name": "stdout",
     "output_type": "stream",
     "text": [
      "Slope: [-0.21712935 -0.24741687  0.00829614] \n",
      "\n",
      "Intercept: 5.498157104373181 \n",
      "\n",
      "Time:  0.015625 \n",
      "\n",
      "RMSE train:  0.9041938136836064\n",
      "RMSE test:  0.9231445941473359\n",
      "R2 train:  0.867540508213125\n",
      "R2 test:  0.8665268372481363\n"
     ]
    }
   ],
   "source": [
    "#LinearRegression PCA \n",
    "start= process_time()\n",
    "reg.fit(X_train_pca_new, y_train)\n",
    "y_train_pred= reg.predict (X_train_pca_new)\n",
    "y_test_pred = reg.predict (X_test_pca_new)\n",
    "stop = process_time()\n",
    "print ('Slope:',reg.coef_,'\\n')\n",
    "print ('Intercept:',reg.intercept_,'\\n')\n",
    "print ('Time: ', stop-start,'\\n')\n",
    "\n",
    "#MSE\n",
    "print(\"RMSE train: \",math.sqrt(mean_squared_error(y_train,y_train_pred)))\n",
    "print(\"RMSE test: \",math.sqrt(mean_squared_error(y_test,y_test_pred)))\n",
    "\n",
    "#R2 score\n",
    "print(\"R2 train: \", r2_score(y_train,y_train_pred))\n",
    "print(\"R2 test: \", r2_score(y_test,y_test_pred))"
   ]
  },
  {
   "cell_type": "code",
   "execution_count": 38,
   "id": "db63f673",
   "metadata": {},
   "outputs": [
    {
     "name": "stdout",
     "output_type": "stream",
     "text": [
      "Time:  12.015625\n",
      "RMSE train:  0.8114400606667871\n",
      "RMSE test:  0.8209525019114915\n",
      "R2 train:  0.8933224798000513\n",
      "R2 test:  0.8944421462564813\n"
     ]
    }
   ],
   "source": [
    "#SVM 30\n",
    "from sklearn import svm\n",
    "svr = svm.SVR(kernel='linear')\n",
    "start = process_time()\n",
    "svr.fit (X_train, y_train)\n",
    "y_train_pred= svr.predict (X_train)\n",
    "y_test_pred = svr.predict (X_test)\n",
    "stop = process_time()\n",
    "print(\"Time: \", stop-start)\n",
    "\n",
    "#MSE\n",
    "print(\"RMSE train: \", math.sqrt(mean_squared_error(y_train,y_train_pred)))\n",
    "print(\"RMSE test: \", math. sqrt(mean_squared_error(y_test,y_test_pred)))\n",
    "\n",
    "#R2 score\n",
    "print(\"R2 train: \", r2_score(y_train,y_train_pred))\n",
    "print(\"R2 test: \", r2_score(y_test,y_test_pred))"
   ]
  },
  {
   "cell_type": "code",
   "execution_count": 40,
   "id": "e62dff2e",
   "metadata": {},
   "outputs": [
    {
     "name": "stdout",
     "output_type": "stream",
     "text": [
      "Time:  10.84375 \n",
      "\n",
      "RMSE train:  0.9208901174937838\n",
      "RMSE test:  0.9409194898027152\n",
      "R2 train:  0.8626035073653322\n",
      "R2 test:  0.8613373746224552\n"
     ]
    }
   ],
   "source": [
    "#SVM 3\n",
    "start = process_time()\n",
    "svr.fit (X_train_pca_new, y_train)\n",
    "y_train_pred= svr.predict (X_train_pca_new)\n",
    "y_test_pred = svr.predict (X_test_pca_new)\n",
    "stop = process_time()\n",
    "print(\"Time: \", stop-start,'\\n')\n",
    "\n",
    "#MSE\n",
    "print(\"RMSE train: \", math.sqrt(mean_squared_error(y_train,y_train_pred)))\n",
    "print(\"RMSE test: \", math.sqrt(mean_squared_error(y_test,y_test_pred)))\n",
    "\n",
    "#R2 score\n",
    "print(\"R2 train: \", r2_score(y_train,y_train_pred))\n",
    "print(\"R2 test: \", r2_score(y_test,y_test_pred))"
   ]
  }
 ],
 "metadata": {
  "kernelspec": {
   "display_name": "Python 3",
   "language": "python",
   "name": "python3"
  },
  "language_info": {
   "codemirror_mode": {
    "name": "ipython",
    "version": 3
   },
   "file_extension": ".py",
   "mimetype": "text/x-python",
   "name": "python",
   "nbconvert_exporter": "python",
   "pygments_lexer": "ipython3",
   "version": "3.8.8"
  }
 },
 "nbformat": 4,
 "nbformat_minor": 5
}
