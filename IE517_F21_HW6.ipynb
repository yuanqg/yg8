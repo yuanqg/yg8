{
 "cells": [
  {
   "cell_type": "code",
   "execution_count": 8,
   "id": "06cb6725",
   "metadata": {},
   "outputs": [],
   "source": [
    "import pandas as pd\n",
    "import numpy as np\n",
    "from pandas import DataFrame\n",
    "cc=pd.read_csv('D:\\download\\ccdefault.csv')\n",
    "df= pd.DataFrame (cc)"
   ]
  },
  {
   "cell_type": "code",
   "execution_count": 9,
   "id": "ad2ec74d",
   "metadata": {},
   "outputs": [],
   "source": [
    "X=df.iloc[:,1:-1].values\n",
    "y=df.iloc[:,-1].values"
   ]
  },
  {
   "cell_type": "code",
   "execution_count": 10,
   "id": "088f9eee",
   "metadata": {},
   "outputs": [],
   "source": [
    "from sklearn import preprocessing\n",
    "from sklearn.model_selection import train_test_split\n",
    "from sklearn.preprocessing import StandardScaler\n",
    "from sklearn.tree import DecisionTreeClassifier\n",
    "from sklearn.pipeline import Pipeline\n",
    "from sklearn.metrics import accuracy_score\n",
    "steps = [('scaler', StandardScaler()),('tree', DecisionTreeClassifier(criterion='gini',max_depth=4))]\n",
    "pipeline = Pipeline(steps)"
   ]
  },
  {
   "cell_type": "code",
   "execution_count": 11,
   "id": "4a00d734",
   "metadata": {},
   "outputs": [
    {
     "name": "stdout",
     "output_type": "stream",
     "text": [
      "In sample scores:  [0.8225555555555556, 0.8225925925925925, 0.8241111111111111, 0.8238518518518518, 0.8231481481481482, 0.8238888888888889, 0.8232592592592592, 0.8237777777777778, 0.8238518518518518, 0.8237777777777778] \n",
      "\n",
      "In sample scores mean:  0.8234814814814815 \n",
      "\n",
      "In sample scores standard deviation:  0.0005310651356721515 \n",
      "\n",
      "Out sample scores [0.8283333333333334, 0.824, 0.8173333333333334, 0.8203333333333334, 0.818, 0.819, 0.8253333333333334, 0.8166666666666667, 0.8173333333333334, 0.8206666666666667] \n",
      "\n",
      "Out sample scores mean:  0.8206999999999999 \n",
      "\n",
      "Out sample scores standard deviation:  0.0037400237670070827 \n",
      "\n",
      "Time:  1.25\n"
     ]
    }
   ],
   "source": [
    "#random test train splits\n",
    "from time import process_time\n",
    "in_sample = []\n",
    "out_sample = []\n",
    "start=process_time()\n",
    "for i in range(1,11):\n",
    "    X_train, X_test, y_train, y_test = train_test_split(X, y,test_size=0.1,random_state=i,stratify=y)\n",
    "    pipeline.fit(X_train,y_train)\n",
    "    \n",
    "    y_train_pred = pipeline.predict(X_train)\n",
    "    y_test_pred = pipeline.predict(X_test)\n",
    "    \n",
    "    in_sample.append(accuracy_score(y_train,y_train_pred))\n",
    "    out_sample.append(accuracy_score(y_test,y_test_pred))\n",
    "end=process_time()\n",
    "time= end-start\n",
    "print('In sample scores: ',in_sample,'\\n')\n",
    "print('In sample scores mean: ',np.mean(in_sample),'\\n')\n",
    "print('In sample scores standard deviation: ',np.std(in_sample),'\\n')\n",
    "print('Out sample scores',out_sample,'\\n')\n",
    "print('Out sample scores mean: ',np.mean(out_sample),'\\n')\n",
    "print('Out sample scores standard deviation: ',np.std(out_sample),'\\n')\n",
    "print('Time: ',time)"
   ]
  },
  {
   "cell_type": "code",
   "execution_count": 12,
   "id": "581e8aa9",
   "metadata": {},
   "outputs": [
    {
     "name": "stdout",
     "output_type": "stream",
     "text": [
      "In sample scores:  [0.81555556 0.8237037  0.81444444 0.81592593 0.82592593 0.82\n",
      " 0.82518519 0.82037037 0.81740741 0.8262963 ] \n",
      "\n",
      "In sample scores mean:  0.8204814814814816 \n",
      "\n",
      "In sample scores standard deviation:  0.0043257293207479616 \n",
      "\n",
      "Out sample scores [0.83333333 0.80666667 0.82333333 0.81       0.82       0.81333333\n",
      " 0.79       0.81333333 0.81666667 0.80333333] \n",
      "\n",
      "Out sample scores mean:  0.813 \n",
      "\n",
      "Out sample scores standard deviation:  0.01120019841094096 \n",
      "\n",
      "Time:  1.140625\n"
     ]
    }
   ],
   "source": [
    "#cross validation\n",
    "from sklearn.model_selection import cross_val_score\n",
    "\n",
    "start=process_time()\n",
    "in_sample = cross_val_score(pipeline, X_train,y_train, cv=10)\n",
    "out_sample = cross_val_score(pipeline,X_test,y_test, cv=10)\n",
    "end=process_time()\n",
    "time=end-start\n",
    "\n",
    "print('In sample scores: ',in_sample,'\\n')\n",
    "print('In sample scores mean: ',np.mean(in_sample),'\\n')\n",
    "print('In sample scores standard deviation: ',np.std(in_sample),'\\n')\n",
    "print('Out sample scores',out_sample,'\\n')\n",
    "print('Out sample scores mean: ',np.mean(out_sample),'\\n')\n",
    "print('Out sample scores standard deviation: ',np.std(out_sample),'\\n')\n",
    "print('Time: ', time)"
   ]
  },
  {
   "cell_type": "code",
   "execution_count": 13,
   "id": "e4add698",
   "metadata": {},
   "outputs": [
    {
     "name": "stdout",
     "output_type": "stream",
     "text": [
      "My name is Yuanqing Guo\n",
      "My NetID is: yg8\n",
      "I hereby certify that I have read the University policy on Academic Integrity and that I am not in violation.\n"
     ]
    }
   ],
   "source": [
    "print(\"My name is Yuanqing Guo\")\n",
    "print(\"My NetID is: yg8\")\n",
    "print(\"I hereby certify that I have read the University policy on Academic Integrity and that I am not in violation.\")"
   ]
  }
 ],
 "metadata": {
  "kernelspec": {
   "display_name": "Python 3",
   "language": "python",
   "name": "python3"
  },
  "language_info": {
   "codemirror_mode": {
    "name": "ipython",
    "version": 3
   },
   "file_extension": ".py",
   "mimetype": "text/x-python",
   "name": "python",
   "nbconvert_exporter": "python",
   "pygments_lexer": "ipython3",
   "version": "3.8.8"
  }
 },
 "nbformat": 4,
 "nbformat_minor": 5
}
