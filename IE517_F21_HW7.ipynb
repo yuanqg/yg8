{
 "cells": [
  {
   "cell_type": "code",
   "execution_count": 27,
   "id": "06cb6725",
   "metadata": {},
   "outputs": [],
   "source": [
    "import pandas as pd\n",
    "import numpy as np\n",
    "from pandas import DataFrame\n",
    "cc=pd.read_csv('D:\\download\\ccdefault.csv')\n",
    "df= pd.DataFrame (cc)"
   ]
  },
  {
   "cell_type": "code",
   "execution_count": 28,
   "id": "ad2ec74d",
   "metadata": {},
   "outputs": [],
   "source": [
    "X=df.iloc[:,1:-1].values\n",
    "y=df.iloc[:,-1].values"
   ]
  },
  {
   "cell_type": "code",
   "execution_count": 37,
   "id": "088f9eee",
   "metadata": {},
   "outputs": [],
   "source": [
    "from sklearn import preprocessing\n",
    "from sklearn.model_selection import train_test_split\n",
    "from sklearn.ensemble import RandomForestClassifier\n",
    "from sklearn.metrics import accuracy_score"
   ]
  },
  {
   "cell_type": "code",
   "execution_count": 33,
   "id": "4a00d734",
   "metadata": {},
   "outputs": [
    {
     "name": "stdout",
     "output_type": "stream",
     "text": [
      "{'n_estimators': 200}\n"
     ]
    }
   ],
   "source": [
    "from sklearn.model_selection import GridSearchCV\n",
    "from sklearn.model_selection import cross_val_score\n",
    "X_train, X_test, y_train, y_test = train_test_split(X, y,test_size=0.1,random_state=42,stratify=y)\n",
    "rf= RandomForestClassifier(criterion='gini',random_state=1)\n",
    "params_rf = {'n_estimators':[50,100,150,200]}\n",
    "grid = GridSearchCV(estimator=rf, param_grid=params_rf)\n",
    "grid.fit(X_train,y_train)\n",
    "print(grid.best_params_)"
   ]
  },
  {
   "cell_type": "code",
   "execution_count": 35,
   "id": "581e8aa9",
   "metadata": {},
   "outputs": [
    {
     "name": "stdout",
     "output_type": "stream",
     "text": [
      "In sample scores:  [0.81592593 0.81888889 0.81259259 0.80962963 0.8162963  0.82037037\n",
      " 0.81888889 0.81851852 0.80666667 0.82185185] \n",
      "\n",
      "In sample scores mean:  0.8159629629629629 \n",
      "\n",
      "In sample scores standard deviation:  0.00464501148408084 \n",
      "\n"
     ]
    }
   ],
   "source": [
    "in_sample = cross_val_score(grid, X_train,y_train, cv=10)\n",
    "print('In sample scores: ',in_sample,'\\n')\n",
    "print('In sample scores mean: ',np.mean(in_sample),'\\n')\n",
    "print('In sample scores standard deviation: ',np.std(in_sample),'\\n')"
   ]
  },
  {
   "cell_type": "code",
   "execution_count": 42,
   "id": "d4a13fd6",
   "metadata": {},
   "outputs": [
    {
     "data": {
      "image/png": "[encoded data removed]",
      "text/plain": [
       "<Figure size 432x288 with 1 Axes>"
      ]
     },
     "metadata": {
      "needs_background": "light"
     },
     "output_type": "display_data"
    }
   ],
   "source": [
    "import matplotlib.pyplot as plt\n",
    "rfr=RandomForestClassifier(n_estimators=200,random_state=1)\n",
    "rfr.fit(X_train,y_train)\n",
    "importances= rfr.feature_importances_\n",
    "sorted_index= np.argsort(importances)[::-1]\n",
    "x = range(len(importances))\n",
    "plt.bar(x, importances[sorted_index],tick_label=df.columns[1:-1])\n",
    "plt.title('Feature Importance')\n",
    "plt.xticks(rotation=90)\n",
    "plt.show()"
   ]
  },
  {
   "cell_type": "code",
   "execution_count": 13,
   "id": "e4add698",
   "metadata": {},
   "outputs": [
    {
     "name": "stdout",
     "output_type": "stream",
     "text": [
      "My name is Yuanqing Guo\n",
      "My NetID is: yg8\n",
      "I hereby certify that I have read the University policy on Academic Integrity and that I am not in violation.\n"
     ]
    }
   ],
   "source": [
    "print(\"My name is Yuanqing Guo\")\n",
    "print(\"My NetID is: yg8\")\n",
    "print(\"I hereby certify that I have read the University policy on Academic Integrity and that I am not in violation.\")"
   ]
  }
 ],
 "metadata": {
  "kernelspec": {
   "display_name": "Python 3",
   "language": "python",
   "name": "python3"
  },
  "language_info": {
   "codemirror_mode": {
    "name": "ipython",
    "version": 3
   },
   "file_extension": ".py",
   "mimetype": "text/x-python",
   "name": "python",
   "nbconvert_exporter": "python",
   "pygments_lexer": "ipython3",
   "version": "3.8.8"
  }
 },
 "nbformat": 4,
 "nbformat_minor": 5
}
